{
 "cells": [
  {
   "cell_type": "code",
   "execution_count": 4,
   "metadata": {},
   "outputs": [],
   "source": [
    "import numpy as np\n"
   ]
  },
  {
   "cell_type": "code",
   "execution_count": 17,
   "metadata": {},
   "outputs": [
    {
     "name": "stdout",
     "output_type": "stream",
     "text": [
      "[[1. 1. 1.]\n",
      " [1. 1. 1.]]\n",
      "(2, 3) 2 6 float64\n",
      "[[1 1 1]\n",
      " [1 1 1]]\n"
     ]
    }
   ],
   "source": [
    "#Testeo\n",
    "dir(np)\n",
    "xs=[1,2,3,4]\n",
    "np.array(xs,dtype=np.float32)\n",
    "np.linspace(0,1,7)\n",
    "np.logspace(0,1,5)\n",
    "\n",
    "#Matriz de mxn de num. aleatorios\n",
    "np.random.rand(3,3)\n",
    "\n",
    "#Propiedades de un array\n",
    "an_array = np.ones((2,3))\n",
    "print(an_array)\n",
    "print(an_array.shape, an_array.ndim, an_array.size, an_array.dtype)\n",
    "an_array.astype(np.int32)\n",
    "print(an_array)\n",
    "\n",
    "# Algunos métodos que modifican las dimensiones:\n",
    "#\n",
    "# reshape: Devuelve un nuevo array con las dimensiones indicadas cómo parámetro. Si alguno de los parámetros es igual a -1, se calculan las dimensiones para que sea factible el cambio.\n",
    "#\n",
    "# resize: el mismo efecto que “reshape” pero modifica el array en vez de devolver uno nuevo.\n",
    "#\n",
    "# T: sirve para transponer una matriz.\n",
    "#\n",
    "# ravel, flattened: “aplana” el array devolviendo todo en una sola dimensión"
   ]
  },
  {
   "cell_type": "code",
   "execution_count": 54,
   "metadata": {},
   "outputs": [
    {
     "data": {
      "text/plain": [
       "array([50, 52, 54, 56, 58, 60, 62, 64, 66, 68, 70, 72, 74, 76, 78, 80, 82,\n",
       "       84, 86, 88, 90, 92, 94, 96, 98])"
      ]
     },
     "execution_count": 54,
     "metadata": {},
     "output_type": "execute_result"
    }
   ],
   "source": [
    "#Operacioines propias de NP arrays\n",
    "np.sum(np.arange(1000)) # suma un arreglo\n",
    "arr = np.arange(16).reshape(4,4)\n",
    "np.sum(arr, axis=0) #  de un arreglo 2d, suma solo un eje, el 0, el primero -> es decir , suma horizontal\n",
    "\n",
    "#Indexacion en array\n",
    "arr=arr.ravel()\n",
    "arr[3:15]\n",
    "\n",
    "#En matrices\n",
    "a_matrix=np.arange(16).reshape((4,4))\n",
    "a_matrix[1:3,2:4]\n",
    "\n",
    "#Operaciones con mascaras en arreglos \n",
    "np.array([x for x in np.arange(50,100) if x%2==0])\n"
   ]
  },
  {
   "cell_type": "code",
   "execution_count": 370,
   "metadata": {},
   "outputs": [
    {
     "name": "stdout",
     "output_type": "stream",
     "text": [
      "19.5 μs ± 124 ns per loop (mean ± std. dev. of 7 runs, 10,000 loops each)\n",
      "[1.9311899994499982e-05, 1.9662669999524952e-05, 1.933831999776885e-05, 1.9509599998127668e-05, 1.9630170008167625e-05, 1.9513920007739216e-05, 1.9435559993144123e-05]\n",
      "3.69 μs ± 10.2 ns per loop (mean ± std. dev. of 7 runs, 100,000 loops each)\n"
     ]
    }
   ],
   "source": [
    "import timeit\n",
    "#Ejercicio 1 \n",
    "pares_menor_A_100 = []\n",
    "\n",
    "pares_menor_A_100=np.array([x for x in np.arange(100) if x%2==0])    \n",
    "\n",
    "pares_menor_A_100_np=np.array(np.arange(100)%2==0)  #Usa SIMD\n",
    "\n",
    "# %timeit me computa el tiempo de ejecucion estimado de la funcion parametro/operacion \n",
    "# -r x -> me dice que se toman x muestras/repeticiones tq en cada muestra se obtiene un tiempo promedio\n",
    "# -n x -> indica que cada repeticion/muestra debe ejecutar la operacion/funcion x veces\n",
    "# -o xs -> indica que el resultado debe guardarse en el objeto xs de salida tq luego puede utilizarse para obtener detalles sobre la medicion : tiempos minimo , media y desviacion estandar.\n",
    "\n",
    "times=%timeit -o np.array([x for x in np.arange(100) if x%2==0])\n",
    "\n",
    "print(times.timings)\n",
    " \n",
    "%timeit np.array(np.arange(100) %2==0)\n"
   ]
  },
  {
   "cell_type": "code",
   "execution_count": 86,
   "metadata": {},
   "outputs": [
    {
     "data": {
      "text/plain": [
       "array([False,  True, False, ...,  True, False,  True])"
      ]
     },
     "execution_count": 86,
     "metadata": {},
     "output_type": "execute_result"
    }
   ],
   "source": [
    "#Ejercicio 2\n",
    "\n",
    "secuencia = list(np.random.choice([False, True], size=100000))\n",
    "\n",
    "res=0\n",
    "for i in range(0,len(secuencia)-1):\n",
    "    if(secuencia[i] or not secuencia[i+1]):\n",
    "        res+=1\n",
    "\n",
    "res_np=0\n",
    "arr=np.array(secuencia)\n",
    "\n",
    "np.array([False,True]*50000)"
   ]
  },
  {
   "cell_type": "code",
   "execution_count": 205,
   "metadata": {},
   "outputs": [
    {
     "name": "stdout",
     "output_type": "stream",
     "text": [
      "4.998262\n",
      "6.657556878612877\n"
     ]
    }
   ],
   "source": [
    "#Ejercicio 4\n",
    "#Desconozco la distribucion de X ...uso media y var muestral\n",
    "def mean(x):\n",
    "    res=0\n",
    "    x=np.array(x,dtype=np.int32)\n",
    "    res=x.sum()/x.size\n",
    "    return res\n",
    "    \n",
    "def var(x):\n",
    "    x=np.array(x)\n",
    "    mean_arr=np.ones(x.size)*mean(x)\n",
    "    x=x-mean_arr\n",
    "    x=x**2\n",
    "    return x.sum()/(x.size-1)\n",
    "\n",
    "print(mean(np.random.randint(1,10,1000000)))   \n",
    "print(var(np.random.randint(1,10,1000000))) \n"
   ]
  },
  {
   "cell_type": "code",
   "execution_count": 275,
   "metadata": {},
   "outputs": [
    {
     "name": "stdout",
     "output_type": "stream",
     "text": [
      "[[1 2 3]\n",
      " [2 5 6]\n",
      " [3 6 9]]\n"
     ]
    },
    {
     "data": {
      "text/plain": [
       "True"
      ]
     },
     "execution_count": 275,
     "metadata": {},
     "output_type": "execute_result"
    }
   ],
   "source": [
    "#Ejercicio 5\n",
    "def esSimetrica(A):\n",
    "    A=np.array(A)\n",
    "    for i in range(0,len(A)):\n",
    "        for j in range(0,len(A)):\n",
    "            if(A[i][j]!=A[j][i]):\n",
    "                return False\n",
    "    return True        \n",
    "\n",
    "A=np.array([[1,2,3],\n",
    "            [0,7,6],\n",
    "            [3,6,9]])\n",
    "\n",
    "B=np.array([[1,2,3],\n",
    "            [2,5,6],\n",
    "            [3,6,9]])\n",
    "\n",
    "esSimetrica(B)\n"
   ]
  },
  {
   "cell_type": "code",
   "execution_count": 359,
   "metadata": {},
   "outputs": [
    {
     "name": "stdout",
     "output_type": "stream",
     "text": [
      "[[0.0080787  0.02298322 0.02447196 0.00680297]\n",
      " [0.02298322 0.02827073 0.0032222  0.01807009]\n",
      " [0.02447196 0.0032222  0.09580648 0.01780693]\n",
      " [0.00680297 0.01807009 0.01780693 0.08973588]]\n",
      "[[0.2842305  0.39644805 0.69010909 0.74635746]\n",
      " [0.5797285  0.53170224 0.05569804 0.32135286]\n",
      " [0.35461004 0.57851138 0.97880786 0.43493992]\n",
      " [0.09114891 0.56231317 0.40941124 0.94729022]]\n",
      "[[0.08078698 0.22983223 0.24471961 0.06802967]\n",
      " [0.22983223 0.28270727 0.03222195 0.18070095]\n",
      " [0.24471961 0.03222195 0.95806483 0.17806929]\n",
      " [0.06802967 0.18070095 0.17806929 0.89735876]]\n"
     ]
    },
    {
     "data": {
      "text/plain": [
       "True"
      ]
     },
     "execution_count": 359,
     "metadata": {},
     "output_type": "execute_result"
    }
   ],
   "source": [
    "#Ejercicio 6\n",
    "A = np.random.rand(4,4)\n",
    "B=A.T * A * 0.1 /0.1 #Producto elemento a elemento\n",
    "\n",
    "print(A.T*A*0.1)\n",
    "\n",
    "esSimetrica(A)\n",
    "esSimetrica(B)\n",
    "#El prod. de Hadamard genera una matriz simetrica entre A y At"
   ]
  },
  {
   "cell_type": "code",
   "execution_count": null,
   "metadata": {},
   "outputs": [],
   "source": [
    "#Ejercicio 7 \n",
    "def block_multiplication(A,B):\n",
    "\n",
    "    n = A.shape[0]\n",
    "    assert(n % 2 == 0)\n",
    "\n",
    "    # Completar\n",
    "    A11 = A[0:2,0:2]\n",
    "    A12 = A[0:2,2:4]\n",
    "    A21 = A[2:4,0:2]\n",
    "    A22 = A[2:4,2:4]\n",
    "\n",
    "    B11 = B[0:2,0:2]\n",
    "    B12 = B[0:2,2:4]\n",
    "    B21 = B[2:4,0:2]\n",
    "    B22 = B[2:4,2:4]\n",
    "\n",
    "    C_11 = [[A11[0,0]*B11[0,0],np.dot(A11[0,:],B11[:,1])],\n",
    "            [A11[1  ,0]*B11[0,0],np.dot(A11[1,:],B11[:,1])]]\n",
    "    \n",
    "    C_12 = [[np.dot(A11[0,:],B12[:,0])+B22[0,0]*A12[0,0] , np.dot(A11[0,:],B12[:,1])+np.dot(A12[0,:],B22[:,1])],\n",
    "            [ np.dot(A11[1,:],B12[:,0]) + A12[1,0]*B22[0,0] , np.dot(A11[1,:],B12[:,1]) + np.dot(A12[1,:],B22[:,1])]]\n",
    "    \n",
    "    C_21 = [[ np.dot(A21[0,:],B11[:,0]) , np.dot(A21[0,:],B11[:,1]) ],\n",
    "            [ np.dot(A21[1,:],B11[:,0]) , np.dot(A21[1,:],B11[:,1])]]\n",
    "    \n",
    "    C_22 = [[ np.dot(A21[0,:],B12[:,0]) + np.dot(A22[0,:],B22[:,0]) , np.dot(A21[0,:],B12[:,1]) + np.dot(A22[0,:],B22[:,1])],\n",
    "            [ np.dot(A21[1,:],B12[:,0]) + np.dot(A22[1,:],B22[:,0]), np.dot(A21[1,:],B12[:,1]) + np.dot(A22[1,:],B22[:,1])]]\n",
    "    \n",
    "\n",
    "    return np.block([[C_11,C_12],[C_21,C_22]])\n",
    "\n",
    "ex_matrix=np.array([[2,3,2,3],\n",
    "                    [0,3,2,3],\n",
    "                    [0,0,2,3],\n",
    "                    [0,0,2,3]])\n",
    "\n",
    "block_multiplication(np.eye(4),ex_matrix)\n",
    "\n",
    "N = 4\n",
    "A = np.array(np.random.rand(N,N))\n",
    "B = np.array(np.random.rand(N,N)) # Falla ya que B no es TI\n",
    "assert(np.allclose(A @ B,block_multiplication(A,B)))\n",
    "\n",
    "print(\"Ok\")"
   ]
  }
 ],
 "metadata": {
  "kernelspec": {
   "display_name": "Python 3",
   "language": "python",
   "name": "python3"
  },
  "language_info": {
   "codemirror_mode": {
    "name": "ipython",
    "version": 3
   },
   "file_extension": ".py",
   "mimetype": "text/x-python",
   "name": "python",
   "nbconvert_exporter": "python",
   "pygments_lexer": "ipython3",
   "version": "3.11.4"
  }
 },
 "nbformat": 4,
 "nbformat_minor": 2
}
