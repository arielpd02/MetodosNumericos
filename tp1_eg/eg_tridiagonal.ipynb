{
 "cells": [
  {
   "cell_type": "code",
   "execution_count": null,
   "metadata": {},
   "outputs": [],
   "source": [
    "import numpy as np\n",
    "import copy\n",
    "import matplotlib.pyplot as plt\n",
    "import sys\n",
    "from numpy import *\n",
    "from numpy.linalg import *\n",
    "\n",
    "#Algortimo de EG para sistemas tridiagonales\n",
    "\n",
    "def precompute_tridiag(a: np.array, b: np.array, c: np.array) -> np.array:\n",
    "    n = len(b)\n",
    "    P = np.zeros((3, n), dtype=float)\n",
    "    P[1, :] = b\n",
    "    for i in range(1, n):\n",
    "        P[1, i] = P[1, i] - (a[i] / P[1, i - 1]) * c[i - 1]\n",
    "        P[0, i] = a[i] / P[1, i - 1]\n",
    "    for i in range(n - 2, -1, -1):\n",
    "        P[2, i] = c[i] / P[1, i + 1]\n",
    "    return P\n",
    "\n",
    "\n",
    "def solve_tridiag(a: np.array, b: np.array, c: np.array, d: np.array) -> np.array:\n",
    "    return solve_tridiag_fast(precompute_tridiag(a, b, c), d)\n",
    "\n",
    "\n",
    "def solve_tridiag_fast(P: np.array, d: np.array):\n",
    "    x = np.copy(d)\n",
    "    for i in range(1, len(x)):\n",
    "        x[i] = x[i] - P[0, i] * x[i - 1]\n",
    "    for i in range(len(x) - 2, -1, -1):\n",
    "        x[i] = x[i] - P[2, i] * x[i + 1]\n",
    "\n",
    "    return x * (1 / P[1, :])\n"
   ]
  }
 ],
 "metadata": {
  "language_info": {
   "name": "python"
  }
 },
 "nbformat": 4,
 "nbformat_minor": 2
}
