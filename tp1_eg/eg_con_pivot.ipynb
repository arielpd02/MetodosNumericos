{
 "cells": [
  {
   "cell_type": "code",
   "execution_count": 111,
   "metadata": {},
   "outputs": [
    {
     "data": {
      "text/plain": [
       "array([1., 1., 1.])"
      ]
     },
     "execution_count": 111,
     "metadata": {},
     "output_type": "execute_result"
    }
   ],
   "source": [
    "import numpy as np\n",
    "import copy\n",
    "import matplotlib.pyplot as plt\n",
    "import sys\n",
    "\n",
    "\n",
    "eps=sys.float_info.epsilon\n",
    "\n",
    "#EG con pivot\n",
    "\n",
    "def pivot(a:np.array,i)->int:\n",
    "    max=abs(a[i,i])\n",
    "    res=0\n",
    "    for k in range(i+1,len(a)):\n",
    "        if(abs(a[k,i])>max):\n",
    "            max=a[k,i]\n",
    "            res=k\n",
    "    return res\n",
    "\n",
    "\n",
    "\n",
    "\n",
    "def eliminacion_gaussiana_pivot(m:np.array,b:np.array)->np.array:\n",
    "    if(len(m)!=len(m[0])):\n",
    "        print(\"Error. Matriz no cuadrada\")\n",
    "\n",
    "    #Construimos A' , extension de A con b\n",
    "    n=len(m)\n",
    "    m_ext=np.hstack((m,np.zeros((n,1))))\n",
    "    m_ext[:,n]=b\n",
    "\n",
    "\n",
    "    for i in range(0,n):\n",
    "\n",
    "        fila_a_permutar=pivot(m_ext,i)\n",
    "        if(fila_a_permutar>i):      #Para el caso que devuelve 0\n",
    "            copy=np.array(m_ext[i,:])\n",
    "            m_ext[i,:]=m_ext[fila_a_permutar,:]\n",
    "            m_ext[fila_a_permutar,:]=copy\n",
    "\n",
    "\n",
    "        if(np.all(m_ext[:,i+1:] == 0)):\n",
    "            pass\n",
    "\n",
    "        for j in range(i+1,n):\n",
    "            if(np.abs(m_ext[i,i])<eps):\n",
    "                print(\"Posible Error Numérico.Cociente con divisor cercano a 0.\\n\")\n",
    "            multiplier=m_ext[j,i]/m_ext[i,i]\n",
    "            m_ext[j,:]=m_ext[j,:]-m_ext[i,:]*multiplier     #M_j=M_j - M_i * multiplier\n",
    "\n",
    "    #Ya A' escalonada -> despejamos x\n",
    "    x=np.zeros(n)\n",
    "    for i in range(n-1,-1,-1):\n",
    "        if(np.abs(m_ext[i,i])<eps):\n",
    "                print(\"Posible Error Numérico.Cociente con divisor cercano a 0.\\n\")\n",
    "        b_i=m_ext[i,n]\n",
    "        if(i==n-1):\n",
    "            x[i]=b_i/m_ext[i,i]\n",
    "            continue\n",
    "        prod=np.dot(m_ext[i,i+1:n],x[i+1:n])\n",
    "        x[i]=(b_i-prod)/m_ext[i,i]\n",
    "\n",
    "    #Devolvemos X=[x1,...,xn]\n",
    "    return x\n",
    "\n",
    "#TODO:modificar para que devuelva excepcion si hay inf. soluciones o no las hay\n",
    "\n",
    "\n",
    "#matrix=np.array([[0,1,1,2],\n",
    "#                 [2,-1,1,0],\n",
    "#                 [3,1,0,1],\n",
    "#                 [0,2,1,3]],dtype=np.float32)\n",
    "\n",
    "matrix=np.array([[3,1,2],\n",
    "                [3,0,1],\n",
    "                [1,0,2]],dtype=np.float32)\n",
    "\n",
    "b=np.array([1,1,1],dtype=np.float32)\n",
    "\n",
    "\n",
    "# AX0=?b\n",
    "matrix@eliminacion_gaussiana_pivot(matrix,b)\n",
    "\n"
   ]
  }
 ],
 "metadata": {
  "kernelspec": {
   "display_name": "Python 3",
   "language": "python",
   "name": "python3"
  },
  "language_info": {
   "codemirror_mode": {
    "name": "ipython",
    "version": 3
   },
   "file_extension": ".py",
   "mimetype": "text/x-python",
   "name": "python",
   "nbconvert_exporter": "python",
   "pygments_lexer": "ipython3",
   "version": "3.11.4"
  }
 },
 "nbformat": 4,
 "nbformat_minor": 2
}
