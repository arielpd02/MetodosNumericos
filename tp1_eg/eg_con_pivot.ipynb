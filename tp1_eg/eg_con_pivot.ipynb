{
 "cells": [
  {
   "cell_type": "code",
   "execution_count": 288,
   "metadata": {},
   "outputs": [
    {
     "name": "stdout",
     "output_type": "stream",
     "text": [
      "[1. 1. 1.]\n"
     ]
    },
    {
     "data": {
      "text/plain": [
       "array([1., 1., 1.], dtype=float32)"
      ]
     },
     "execution_count": 288,
     "metadata": {},
     "output_type": "execute_result"
    }
   ],
   "source": [
    "import numpy as np\n",
    "import copy\n",
    "import matplotlib.pyplot as plt\n",
    "import sys\n",
    "from numpy import *\n",
    "from numpy.linalg import *\n",
    "\n",
    "\n",
    "eps=sys.float_info.epsilon\n",
    "\n",
    "#--------------EG con pivot---------------\n",
    "\n",
    "def pivot(a:np.array,i)->int:\n",
    "    max=abs(a[i,i])\n",
    "    res=0\n",
    "    for k in range(i+1,len(a)):\n",
    "        if(abs(a[k,i])>max):\n",
    "            max=a[k,i]\n",
    "            res=k\n",
    "    return res\n",
    "\n",
    "def producto_punto(v:np.array,w:np.array)->np.float64:\n",
    "    res=np.float64(0)\n",
    "    for i in range(0,v.size):\n",
    "        res+=v[i]*w[i]\n",
    "    return res\n",
    "\n",
    "#Para poder limitar el error numérico y que el algoritmo sea correcto (i.e. devuelva S.I. cuando no hay solucion o alguna si existe) , consideramos que un x<=e-6 es efectivamente 0.Es decir , nos basamos en una precision de 6 digitos en los resultados.\n",
    "\n",
    "def eliminacion_gaussiana_pivot(m:np.array,b:np.array)->np.array:\n",
    "    if(len(m)!=len(m[0])):\n",
    "        print(\"Error. Matriz no cuadrada\")\n",
    "\n",
    "    cota_decimal=eps*pow(10,6)\n",
    "\n",
    "    #Construimos A' , extension de A con b\n",
    "    n=len(m)\n",
    "    m_ext=np.hstack((m,np.zeros((n,1))))\n",
    "    m_ext[:,n]=b\n",
    "\n",
    "    for i in range(0,n):\n",
    "\n",
    "        fila_a_permutar=pivot(m_ext,i)\n",
    "        if(fila_a_permutar>i):      #Para el caso que devuelve 0\n",
    "            copy=np.array(m_ext[i,:])\n",
    "            m_ext[i,:]=m_ext[fila_a_permutar,:]\n",
    "            m_ext[fila_a_permutar,:]=copy\n",
    "\n",
    "        #Si la columna ya es nula,paso.\n",
    "        if(np.all(m_ext[i:,i] == 0)):\n",
    "            continue\n",
    "        \n",
    "        for j in range(i+1,n):\n",
    "            if(np.abs(m_ext[i,i])<cota_decimal):\n",
    "                print(\"Posible Error Numérico.Cociente con divisor cercano a 0.\\n\")\n",
    "            multiplier=m_ext[j,i]/m_ext[i,i]\n",
    "            m_ext[j,:]=m_ext[j,:]-m_ext[i,:]*multiplier     #M_j=M_j - M_i * multiplier\n",
    "            \n",
    "    #print(m_ext)\n",
    "\n",
    "    #Excepcion a devolver\n",
    "    for i in range(0,n):\n",
    "        if(np.abs(m_ext[i,i])>cota_decimal): #M_ii>0        \n",
    "            continue\n",
    "        elif(np.abs(m_ext[i,n])>cota_decimal):#    b_ii>0                    \n",
    "            print(\"Sistema incompatible.No existen soluciones.\")\n",
    "            return \n",
    "        else:               #TODO:que hago si es SCI\n",
    "            print(\"Hay infinitas soluciones.\")            \n",
    "            return\n",
    "\n",
    "\n",
    "    #Ya A' escalonada -> despejamos x\n",
    "    x=np.zeros(n)\n",
    "    for i in range(n-1,-1,-1):\n",
    "        b_i=m_ext[i,n]\n",
    "        if(i==n-1):\n",
    "            x[i]=b_i/m_ext[i,i]\n",
    "            continue\n",
    "        prod=producto_punto(m_ext[i,i+1:n],x[i+1:n])\n",
    "        x[i]=(b_i-prod)/m_ext[i,i]\n",
    "\n",
    "    #Devolvemos X=[x1,...,xn]\n",
    "    return x\n",
    "\n",
    "\n",
    "\n",
    "\n",
    "#matrix=np.array([[0,1,1,2],\n",
    "#                 [2,-1,1,0],\n",
    "#                 [3,1,0,1],\n",
    "#                 [0,2,1,3]],dtype=np.float64)\n",
    "#\n",
    "#b=np.array([1,2,1,0],dtype=np.float64)\n",
    "\n",
    "matrix=np.array([[1,3,2],\n",
    "                 [0,2,4],\n",
    "                 [2,1,3]],dtype=np.float32)\n",
    "\n",
    "b=np.array([6,6,6],dtype=np.float32)\n",
    "\n",
    "# AX0=?b\n",
    "#print(matrix@eliminacion_gaussiana_pivot(matrix,b,0))\n",
    "\n",
    "print(eliminacion_gaussiana_pivot(matrix,b))\n",
    "solve(matrix,b)"
   ]
  },
  {
   "cell_type": "code",
   "execution_count": 289,
   "metadata": {},
   "outputs": [
    {
     "data": {
      "text/plain": [
       "Text(0, 0.5, 'Máxima diferencia absoluta para X')"
      ]
     },
     "execution_count": 289,
     "metadata": {},
     "output_type": "execute_result"
    },
    {
     "data": {
      "image/png": "[encoded data removed]",
      "text/plain": [
       "<Figure size 640x480 with 1 Axes>"
      ]
     },
     "metadata": {},
     "output_type": "display_data"
    }
   ],
   "source": [
    "#Exploración de resultados -> la idea es ver como los resultados cambian en base a un sistema de representación numerica con mayor precision.El cual es el caso de DoublePrecisionFP(64 bits)\n",
    "\n",
    "#Matrices\n",
    "A_32=np.array([[1,2,3],\n",
    "              [1,2,3],\n",
    "              [1,2,3]],dtype=np.float32)\n",
    "\n",
    "A_64=np.array([[1,2,3],\n",
    "            [1,2,3],\n",
    "            [1,2,3]],dtype=np.float64)\n",
    "\n",
    "#Arrays de TI\n",
    "b_32=np.array([6,6,6],dtype=np.float32)\n",
    "b_64=np.array([6,6,6],dtype=np.float64)\n",
    "\n",
    "\n",
    "#Epsilons a explorar\n",
    "epsilons_32=np.logspace(0,-6,dtype=np.float32,num=50)\n",
    "epsilons_64=np.logspace(0,-6,dtype=np.float64,num=50)\n",
    "\n",
    "#Solucion del sistema\n",
    "x_32=np.array([1,1,1],dtype=np.float32)\n",
    "x_64=np.array([1,1,1],dtype=np.float64)\n",
    "\n",
    "#Array de diferencias absolutas entre X y X'\n",
    "max_dif_32=np.zeros(epsilons_32.size,dtype=np.float32)\n",
    "max_dif_64=np.zeros(epsilons_32.size,dtype=np.float64)\n",
    "\n",
    "for i in range(epsilons_32.size):\n",
    "    e=epsilons_32[i]\n",
    "\n",
    "    A_e_64=np.array([[0,e,-e],\n",
    "                  [-e,0,e],\n",
    "                  [e,-e,0]],dtype=np.float64)\n",
    "    \n",
    "    A_e_32=np.array([[0,e,-e],\n",
    "                  [-e,0,e],\n",
    "                  [e,-e,0]],dtype=np.float32)\n",
    "    \n",
    "    A_32=A_32+A_e_32\n",
    "    A_64=A_64+A_e_64\n",
    "\n",
    "    #print(A_32)\n",
    "\n",
    "    #Hacemos EG y guardamos el vector X'\n",
    "    aux_32=eliminacion_gaussiana_pivot(A_32,b_32)\n",
    "    aux_64=eliminacion_gaussiana_pivot(A_64,b_64)\n",
    "    \n",
    "\n",
    "    #Buscamos norma infinito y la guardamos respecto al epsilon\n",
    "    aux_32=aux_32-x_32  \n",
    "    aux_64=aux_64-x_64\n",
    "\n",
    "    aux_32=np.abs(aux_32)\n",
    "    aux_64=np.abs(aux_64)   #|X'- X|\n",
    "\n",
    "    max_dif_32[i]=np.max(aux_32)\n",
    "    max_dif_64[i]=np.max(aux_64)\n",
    "\n",
    "\n",
    "#Listos los valores ,graficamos los resultados.\n",
    "\n",
    "plt.plot(epsilons_32,max_dif_32,'-o',label='Float 32',color='orange')\n",
    "plt.plot(epsilons_32,max_dif_64,'-o',label='Float 64',color='blue')\n",
    "\n",
    "plt.legend(loc='upper left')\n",
    "\n",
    "\n",
    "plt.xscale('log')\n",
    "plt.yscale('log')\n",
    "\n",
    "plt.xlabel('Epsilon')\n",
    "plt.ylabel('Máxima diferencia absoluta para X')\n",
    "\n",
    "\n",
    "\n",
    "\n",
    "\n",
    "\n"
   ]
  },
  {
   "cell_type": "code",
   "execution_count": 263,
   "metadata": {},
   "outputs": [
    {
     "data": {
      "text/plain": [
       "array([], dtype=float64)"
      ]
     },
     "execution_count": 263,
     "metadata": {},
     "output_type": "execute_result"
    }
   ],
   "source": [
    "#Test precision numerica\n",
    "np.float64(320000/0.0000245678)\n",
    "x=eps*pow(10,6)\n",
    "\n",
    "\n",
    "(0.1+0.2)/x- 0.3/x\n",
    "\n",
    "\n",
    "np.random.rand(10)\n",
    "\n",
    "np.zeros(0)\n",
    "\n"
   ]
  }
 ],
 "metadata": {
  "kernelspec": {
   "display_name": "Python 3",
   "language": "python",
   "name": "python3"
  },
  "language_info": {
   "codemirror_mode": {
    "name": "ipython",
    "version": 3
   },
   "file_extension": ".py",
   "mimetype": "text/x-python",
   "name": "python",
   "nbconvert_exporter": "python",
   "pygments_lexer": "ipython3",
   "version": "3.11.4"
  }
 },
 "nbformat": 4,
 "nbformat_minor": 2
}
